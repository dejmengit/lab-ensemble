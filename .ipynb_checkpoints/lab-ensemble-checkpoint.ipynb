{
 "cells": [
  {
   "cell_type": "markdown",
   "metadata": {},
   "source": [
    "# LAB | Ensemble Methods"
   ]
  },
  {
   "cell_type": "markdown",
   "metadata": {},
   "source": [
    "**Load the data**\n",
    "\n",
    "In this challenge, we will be working with the same Spaceship Titanic data, like the previous Lab. The data can be found here:\n",
    "\n",
    "https://raw.githubusercontent.com/data-bootcamp-v4/data/main/spaceship_titanic.csv\n",
    "\n",
    "Metadata\n",
    "\n",
    "https://github.com/data-bootcamp-v4/data/blob/main/spaceship_titanic.md"
   ]
  },
  {
   "cell_type": "markdown",
   "metadata": {},
   "source": [
    "In this Lab, you should try different ensemble methods in order to see if can obtain a better model than before. In order to do a fair comparison, you should perform the same feature scaling, engineering applied in previous Lab."
   ]
  },
  {
   "cell_type": "code",
   "execution_count": 3,
   "metadata": {},
   "outputs": [],
   "source": [
    "#Libraries\n",
    "import pandas as pd\n",
    "import numpy as np\n",
    "from sklearn.model_selection import train_test_split"
   ]
  },
  {
   "cell_type": "code",
   "execution_count": 4,
   "metadata": {},
   "outputs": [
    {
     "data": {
      "text/html": [
       "<div>\n",
       "<style scoped>\n",
       "    .dataframe tbody tr th:only-of-type {\n",
       "        vertical-align: middle;\n",
       "    }\n",
       "\n",
       "    .dataframe tbody tr th {\n",
       "        vertical-align: top;\n",
       "    }\n",
       "\n",
       "    .dataframe thead th {\n",
       "        text-align: right;\n",
       "    }\n",
       "</style>\n",
       "<table border=\"1\" class=\"dataframe\">\n",
       "  <thead>\n",
       "    <tr style=\"text-align: right;\">\n",
       "      <th></th>\n",
       "      <th>PassengerId</th>\n",
       "      <th>HomePlanet</th>\n",
       "      <th>CryoSleep</th>\n",
       "      <th>Cabin</th>\n",
       "      <th>Destination</th>\n",
       "      <th>Age</th>\n",
       "      <th>VIP</th>\n",
       "      <th>RoomService</th>\n",
       "      <th>FoodCourt</th>\n",
       "      <th>ShoppingMall</th>\n",
       "      <th>Spa</th>\n",
       "      <th>VRDeck</th>\n",
       "      <th>Name</th>\n",
       "      <th>Transported</th>\n",
       "    </tr>\n",
       "  </thead>\n",
       "  <tbody>\n",
       "    <tr>\n",
       "      <th>0</th>\n",
       "      <td>0001_01</td>\n",
       "      <td>Europa</td>\n",
       "      <td>False</td>\n",
       "      <td>B/0/P</td>\n",
       "      <td>TRAPPIST-1e</td>\n",
       "      <td>39.0</td>\n",
       "      <td>False</td>\n",
       "      <td>0.0</td>\n",
       "      <td>0.0</td>\n",
       "      <td>0.0</td>\n",
       "      <td>0.0</td>\n",
       "      <td>0.0</td>\n",
       "      <td>Maham Ofracculy</td>\n",
       "      <td>False</td>\n",
       "    </tr>\n",
       "    <tr>\n",
       "      <th>1</th>\n",
       "      <td>0002_01</td>\n",
       "      <td>Earth</td>\n",
       "      <td>False</td>\n",
       "      <td>F/0/S</td>\n",
       "      <td>TRAPPIST-1e</td>\n",
       "      <td>24.0</td>\n",
       "      <td>False</td>\n",
       "      <td>109.0</td>\n",
       "      <td>9.0</td>\n",
       "      <td>25.0</td>\n",
       "      <td>549.0</td>\n",
       "      <td>44.0</td>\n",
       "      <td>Juanna Vines</td>\n",
       "      <td>True</td>\n",
       "    </tr>\n",
       "    <tr>\n",
       "      <th>2</th>\n",
       "      <td>0003_01</td>\n",
       "      <td>Europa</td>\n",
       "      <td>False</td>\n",
       "      <td>A/0/S</td>\n",
       "      <td>TRAPPIST-1e</td>\n",
       "      <td>58.0</td>\n",
       "      <td>True</td>\n",
       "      <td>43.0</td>\n",
       "      <td>3576.0</td>\n",
       "      <td>0.0</td>\n",
       "      <td>6715.0</td>\n",
       "      <td>49.0</td>\n",
       "      <td>Altark Susent</td>\n",
       "      <td>False</td>\n",
       "    </tr>\n",
       "    <tr>\n",
       "      <th>3</th>\n",
       "      <td>0003_02</td>\n",
       "      <td>Europa</td>\n",
       "      <td>False</td>\n",
       "      <td>A/0/S</td>\n",
       "      <td>TRAPPIST-1e</td>\n",
       "      <td>33.0</td>\n",
       "      <td>False</td>\n",
       "      <td>0.0</td>\n",
       "      <td>1283.0</td>\n",
       "      <td>371.0</td>\n",
       "      <td>3329.0</td>\n",
       "      <td>193.0</td>\n",
       "      <td>Solam Susent</td>\n",
       "      <td>False</td>\n",
       "    </tr>\n",
       "    <tr>\n",
       "      <th>4</th>\n",
       "      <td>0004_01</td>\n",
       "      <td>Earth</td>\n",
       "      <td>False</td>\n",
       "      <td>F/1/S</td>\n",
       "      <td>TRAPPIST-1e</td>\n",
       "      <td>16.0</td>\n",
       "      <td>False</td>\n",
       "      <td>303.0</td>\n",
       "      <td>70.0</td>\n",
       "      <td>151.0</td>\n",
       "      <td>565.0</td>\n",
       "      <td>2.0</td>\n",
       "      <td>Willy Santantines</td>\n",
       "      <td>True</td>\n",
       "    </tr>\n",
       "  </tbody>\n",
       "</table>\n",
       "</div>"
      ],
      "text/plain": [
       "  PassengerId HomePlanet CryoSleep  Cabin  Destination   Age    VIP  \\\n",
       "0     0001_01     Europa     False  B/0/P  TRAPPIST-1e  39.0  False   \n",
       "1     0002_01      Earth     False  F/0/S  TRAPPIST-1e  24.0  False   \n",
       "2     0003_01     Europa     False  A/0/S  TRAPPIST-1e  58.0   True   \n",
       "3     0003_02     Europa     False  A/0/S  TRAPPIST-1e  33.0  False   \n",
       "4     0004_01      Earth     False  F/1/S  TRAPPIST-1e  16.0  False   \n",
       "\n",
       "   RoomService  FoodCourt  ShoppingMall     Spa  VRDeck               Name  \\\n",
       "0          0.0        0.0           0.0     0.0     0.0    Maham Ofracculy   \n",
       "1        109.0        9.0          25.0   549.0    44.0       Juanna Vines   \n",
       "2         43.0     3576.0           0.0  6715.0    49.0      Altark Susent   \n",
       "3          0.0     1283.0         371.0  3329.0   193.0       Solam Susent   \n",
       "4        303.0       70.0         151.0   565.0     2.0  Willy Santantines   \n",
       "\n",
       "   Transported  \n",
       "0        False  \n",
       "1         True  \n",
       "2        False  \n",
       "3        False  \n",
       "4         True  "
      ]
     },
     "execution_count": 4,
     "metadata": {},
     "output_type": "execute_result"
    }
   ],
   "source": [
    "spaceship = pd.read_csv(\"https://raw.githubusercontent.com/data-bootcamp-v4/data/main/spaceship_titanic.csv\")\n",
    "spaceship.head()"
   ]
  },
  {
   "cell_type": "markdown",
   "metadata": {},
   "source": [
    "Now perform the same as before:\n",
    "- Feature Scaling\n",
    "- Feature Selection\n"
   ]
  },
  {
   "cell_type": "markdown",
   "metadata": {},
   "source": [
    "**Perform Train Test Split**"
   ]
  },
  {
   "cell_type": "code",
   "execution_count": 13,
   "metadata": {},
   "outputs": [
    {
     "name": "stderr",
     "output_type": "stream",
     "text": [
      "/opt/anaconda3/lib/python3.12/site-packages/sklearn/feature_selection/_univariate_selection.py:112: UserWarning: Features [  15   19   47   50   52   62   65   82   88   91  103  110  115  116\n",
      "  117  119  127  128  137  143  145  148  152  159  166  169  170  175\n",
      "  185  208  219  222  223  231  235  236  241  250  273  285  289  291\n",
      "  303  307  322  325  326  342  359  363  374  379  386  394  402  411\n",
      "  417  420  445  458  471  475  496  504  513  528  533  538  540  543\n",
      "  545  548  552  558  564  569  572  576  578  582  596  606  609  644\n",
      "  647  650  654  661  674  675  676  682  688  702  734  736  743  752\n",
      "  753  755  758  760  763  785  799  819  825  826  833  837  840  847\n",
      "  852  857  858  868  869  884  891  896  897  900  907  929  937  939\n",
      "  941  942  951  952  953  959  966  988  998 1010 1012 1031 1036 1038\n",
      " 1043 1050 1051 1054 1056 1063 1074 1075 1076 1085 1103 1104 1106 1116\n",
      " 1122 1129 1131 1135 1148 1150 1158 1169 1179 1185 1186 1199 1202 1208\n",
      " 1217 1222 1236 1238 1241 1242 1248 1251 1256 1275 1283 1286 1289 1297\n",
      " 1298 1303 1312 1317 1320 1322 1323 1324 1326 1336 1341 1349 1351 1356\n",
      " 1358 1364 1366 1378 1380 1403 1409 1412 1419 1420 1431 1434 1436 1441\n",
      " 1442 1444 1448 1453 1457 1473 1481 1488 1495 1497 1498 1503 1508 1513\n",
      " 1514 1517 1518 1547 1552 1554 1555 1566 1569 1570 1573 1574 1583 1585\n",
      " 1595 1596 1603 1606 1609 1625 1631 1637 1639 1643 1644 1646 1654 1667\n",
      " 1669 1693 1695 1696 1699 1707 1715 1720 1722 1739 1748 1764 1771 1773\n",
      " 1777 1781 1782 1787 1797 1800 1802 1806 1810 1821 1822 1824 1846 1848\n",
      " 1870 1872 1874 1884 1885 1888 1889 1892 1899 1906 1911 1915 1921 1925\n",
      " 1928 1930 1932 1936 1937 1939 1942 1958 1971 1973 1989 1991 2000 2001\n",
      " 2005 2006 2007 2009 2011 2013 2014 2019 2027 2046 2050 2054 2057 2058\n",
      " 2072 2082 2085 2086 2091 2098 2102 2107 2114 2116 2118 2127 2133 2148\n",
      " 2150 2151 2154 2160 2168 2172 2178 2182 2193 2203 2212 2213 2242 2243\n",
      " 2244 2258 2261 2264 2265 2267 2270 2272 2277 2296 2297 2301 2304 2309\n",
      " 2313 2314 2319 2321 2326 2327 2331 2334 2338 2347 2362 2364 2366 2369\n",
      " 2375 2380 2381 2382 2405 2411 2412 2437 2439 2441 2443 2445 2454 2455\n",
      " 2477 2479 2481 2485 2492 2499 2501 2506 2508 2518 2522 2529 2531 2536\n",
      " 2541 2543 2547 2550 2552 2558 2561 2563 2567 2569 2570 2579 2581 2585\n",
      " 2587 2588 2590 2613 2625 2630 2632 2640 2649 2660 2664 2668 2670 2672\n",
      " 2683 2688 2693 2695 2696 2701 2704 2705 2706 2717 2718 2732 2737 2739\n",
      " 2745 2759 2763 2767 2771 2783 2784 2790 2791 2805 2807 2808 2809 2836\n",
      " 2853 2855 2863 2864 2865 2868 2870 2896 2899 2907 2911 2917 2919 2922\n",
      " 2925 2935 2939 2940 2950 2953 2958 2960 2965 2966 2968 2969 2970 2971\n",
      " 2984 2989 2994 2997 2999 3001 3007 3008 3020 3042 3045 3056 3059 3062\n",
      " 3063 3069 3071 3073 3079 3085 3111 3116 3119 3120 3129 3130 3132 3133\n",
      " 3147 3150 3153 3157 3159 3173 3178 3191 3199 3205 3207 3210 3212 3219\n",
      " 3230 3232 3242 3243 3245 3249 3254 3258 3266 3271 3281 3290 3302 3307\n",
      " 3318 3321 3325 3332 3336 3338 3339 3341 3342 3347 3359 3364 3368 3390\n",
      " 3391 3392 3397 3400 3410 3411 3413 3414 3415 3425 3428 3435 3444 3448\n",
      " 3458 3459 3462 3469 3475 3481 3482 3483 3494 3495 3496 3499 3505 3508\n",
      " 3512 3516 3517 3518 3528 3531 3532 3534 3542 3546 3549 3552 3553 3554\n",
      " 3556 3568 3570 3576 3579 3588 3589 3592 3594 3597 3601 3614 3619 3626\n",
      " 3629 3632 3636 3638 3639 3640 3648 3649 3652 3660 3663 3670 3675 3680\n",
      " 3688 3693 3699 3701 3705 3706 3722 3724 3725 3733 3735 3741 3745 3758\n",
      " 3767 3779 3788 3794 3804 3806 3810 3813 3818 3823 3830 3831 3836 3838\n",
      " 3841 3851 3853 3855 3872 3877 3878 3879 3882 3887 3889 3895 3909 3912\n",
      " 3923 3930 3941 3950 3952 3956 3965 3971 3972 3979 3989 3990 3992 4006\n",
      " 4011 4012 4030 4032 4033 4045 4052 4058 4062 4067 4074 4079 4096 4098\n",
      " 4107 4108 4110 4115 4117 4122 4123 4126 4128 4133 4141 4143 4144 4147\n",
      " 4153 4159 4163 4170 4177 4182 4193 4198 4200 4203 4206 4214 4218 4228\n",
      " 4234 4237 4257 4258 4267 4268 4272 4273 4275 4278 4283 4285 4286 4295\n",
      " 4297 4302 4315 4331 4334 4340 4342 4352 4354 4356 4365 4383 4398 4400\n",
      " 4405 4410 4415 4416 4421 4422 4424 4441 4442 4453 4456 4457 4459 4460\n",
      " 4461 4481 4483 4485 4489 4496 4508 4512 4520 4521 4525 4526 4528 4531\n",
      " 4535 4540 4568 4569 4571 4576 4578 4580 4586 4592 4604 4609 4611 4613\n",
      " 4614 4630 4634 4635 4643 4652 4657 4660 4667 4669 4675 4677 4681 4687\n",
      " 4688 4690 4693 4695 4704 4705 4708 4720 4735 4743 4752 4753 4770 4774\n",
      " 4784 4786 4801 4805 4811 4813 4815 4817 4818 4821 4823 4828 4847 4848\n",
      " 4850 4862 4863 4869 4872 4879 4882 4890 4898 4899 4906 4910 4911 4912\n",
      " 4918 4927 4933 4946 4951 4957 4965 4976 4982 4983 4990 4992 5009 5013\n",
      " 5019 5037 5039 5042 5054 5056 5063 5075 5076 5078 5083 5089 5094 5096\n",
      " 5101 5104 5106 5112 5114 5138 5142 5144 5146 5148 5149 5151 5153 5168\n",
      " 5173 5178 5189 5191 5210 5227 5229 5235 5238 5242 5246 5256 5257 5267\n",
      " 5272 5275 5278 5282 5288 5295 5317 5321 5338 5339 5345 5346 5347 5349\n",
      " 5364 5369 5383 5384 5389 5399 5410 5414 5418 5419] are constant.\n",
      "  warnings.warn(\"Features %s are constant.\" % constant_features_idx, UserWarning)\n",
      "/opt/anaconda3/lib/python3.12/site-packages/sklearn/feature_selection/_univariate_selection.py:113: RuntimeWarning: invalid value encountered in divide\n",
      "  f = msb / msw\n"
     ]
    },
    {
     "data": {
      "text/plain": [
       "['Age',\n",
       " 'RoomService',\n",
       " 'FoodCourt',\n",
       " 'Spa',\n",
       " 'VRDeck',\n",
       " 'HomePlanet_Europa',\n",
       " 'CryoSleep_True',\n",
       " 'Cabin_G/943/S',\n",
       " 'Destination_TRAPPIST-1e',\n",
       " 'VIP_True']"
      ]
     },
     "execution_count": 13,
     "metadata": {},
     "output_type": "execute_result"
    }
   ],
   "source": [
    "from sklearn.model_selection import train_test_split\n",
    "from sklearn.preprocessing import StandardScaler\n",
    "from sklearn.feature_selection import SelectKBest, f_classif\n",
    "\n",
    "# Separate features and target\n",
    "X = spaceship.drop(columns='Transported')\n",
    "y = spaceship['Transported'].astype(int)\n",
    "\n",
    "# One-hot encode categorical features\n",
    "X_encoded = pd.get_dummies(X, drop_first=True)\n",
    "\n",
    "# Train-test split\n",
    "X_train, X_test, y_train, y_test = train_test_split(\n",
    "    X_encoded, y, test_size=0.2, random_state=42\n",
    ")\n",
    "\n",
    "# Feature Scaling\n",
    "scaler = StandardScaler()\n",
    "X_train_scaled = scaler.fit_transform(X_train)\n",
    "X_test_scaled = scaler.transform(X_test)\n",
    "\n",
    "# Feature Selection\n",
    "selector = SelectKBest(score_func=f_classif, k=10)\n",
    "X_train_selected = selector.fit_transform(X_train_scaled, y_train)\n",
    "X_test_selected = selector.transform(X_test_scaled)\n",
    "\n",
    "selected_features = X_encoded.columns[selector.get_support()].tolist()\n",
    "selected_features\n"
   ]
  },
  {
   "cell_type": "markdown",
   "metadata": {},
   "source": [
    "**Model Selection** - now you will try to apply different ensemble methods in order to get a better model"
   ]
  },
  {
   "cell_type": "markdown",
   "metadata": {},
   "source": [
    "- Bagging and Pasting"
   ]
  },
  {
   "cell_type": "code",
   "execution_count": 15,
   "metadata": {},
   "outputs": [
    {
     "ename": "NameError",
     "evalue": "name 'DecisionTreeClassifier' is not defined",
     "output_type": "error",
     "traceback": [
      "\u001b[0;31m---------------------------------------------------------------------------\u001b[0m",
      "\u001b[0;31mNameError\u001b[0m                                 Traceback (most recent call last)",
      "Cell \u001b[0;32mIn[15], line 2\u001b[0m\n\u001b[1;32m      1\u001b[0m \u001b[38;5;66;03m# Define the base estimator\u001b[39;00m\n\u001b[0;32m----> 2\u001b[0m base_model \u001b[38;5;241m=\u001b[39m DecisionTreeClassifier(random_state\u001b[38;5;241m=\u001b[39m\u001b[38;5;241m42\u001b[39m)\n\u001b[1;32m      4\u001b[0m \u001b[38;5;66;03m# Bagging \u001b[39;00m\n\u001b[1;32m      5\u001b[0m bagging \u001b[38;5;241m=\u001b[39m BaggingClassifier(\n\u001b[1;32m      6\u001b[0m     base_estimator\u001b[38;5;241m=\u001b[39mbase_model,\n\u001b[1;32m      7\u001b[0m     n_estimators\u001b[38;5;241m=\u001b[39m\u001b[38;5;241m50\u001b[39m,\n\u001b[0;32m   (...)\u001b[0m\n\u001b[1;32m     10\u001b[0m     random_state\u001b[38;5;241m=\u001b[39m\u001b[38;5;241m42\u001b[39m\n\u001b[1;32m     11\u001b[0m )\n",
      "\u001b[0;31mNameError\u001b[0m: name 'DecisionTreeClassifier' is not defined"
     ]
    }
   ],
   "source": [
    "# Define the base estimator\n",
    "base_model = DecisionTreeClassifier(random_state=42)\n",
    "\n",
    "# Bagging \n",
    "bagging = BaggingClassifier(\n",
    "    base_estimator=base_model,\n",
    "    n_estimators=50,\n",
    "    max_samples=0.8,\n",
    "    bootstrap=True,    \n",
    "    random_state=42\n",
    ")\n",
    "bagging.fit(X_train_selected, y_train)\n",
    "y_pred_bag = bagging.predict(X_test_selected)\n",
    "bagging_acc = accuracy_score(y_test, y_pred_bag)\n",
    "\n",
    "# Step 3: Pasting \n",
    "pasting = BaggingClassifier(\n",
    "    base_estimator=base_model,\n",
    "    n_estimators=50,\n",
    "    max_samples=0.8,\n",
    "    bootstrap=False, \n",
    "    random_state=42\n",
    ")\n",
    "pasting.fit(X_train_selected, y_train)\n",
    "y_pred_paste = pasting.predict(X_test_selected)\n",
    "pasting_acc = accuracy_score(y_test, y_pred_paste)\n",
    "\n",
    "bagging_acc\n",
    "pasting_acc\n"
   ]
  },
  {
   "cell_type": "markdown",
   "metadata": {},
   "source": [
    "- Random Forests"
   ]
  },
  {
   "cell_type": "code",
   "execution_count": 19,
   "metadata": {},
   "outputs": [
    {
     "name": "stdout",
     "output_type": "stream",
     "text": [
      "Random Forest Accuracy: 0.7805\n",
      "\n",
      "Classification Report:\n",
      "              precision    recall  f1-score   support\n",
      "\n",
      "           0       0.80      0.77      0.78       699\n",
      "           1       0.76      0.79      0.78       654\n",
      "\n",
      "    accuracy                           0.78      1353\n",
      "   macro avg       0.78      0.78      0.78      1353\n",
      "weighted avg       0.78      0.78      0.78      1353\n",
      "\n"
     ]
    }
   ],
   "source": [
    "from sklearn.ensemble import RandomForestClassifier\n",
    "\n",
    "rf_model = RandomForestClassifier(\n",
    "    n_estimators=100,\n",
    "    max_depth=None,\n",
    "    random_state=42\n",
    ")\n",
    "rf_model.fit(X_train_selected, y_train)\n",
    "\n",
    "y_pred_rf = rf_model.predict(X_test_selected)\n",
    "\n",
    "from sklearn.metrics import accuracy_score, classification_report\n",
    "rf_acc = accuracy_score(y_test, y_pred_rf)\n",
    "print(\"Random Forest Accuracy:\", round(rf_acc, 4))\n",
    "print(\"\\nClassification Report:\")\n",
    "print(classification_report(y_test, y_pred_rf))\n"
   ]
  },
  {
   "cell_type": "markdown",
   "metadata": {},
   "source": [
    "- Gradient Boosting"
   ]
  },
  {
   "cell_type": "code",
   "execution_count": 20,
   "metadata": {},
   "outputs": [
    {
     "name": "stdout",
     "output_type": "stream",
     "text": [
      "Gradient Boosting Accuracy: 0.7938\n",
      "\n",
      "Classification Report:\n",
      "              precision    recall  f1-score   support\n",
      "\n",
      "           0       0.84      0.74      0.79       699\n",
      "           1       0.76      0.85      0.80       654\n",
      "\n",
      "    accuracy                           0.79      1353\n",
      "   macro avg       0.80      0.80      0.79      1353\n",
      "weighted avg       0.80      0.79      0.79      1353\n",
      "\n"
     ]
    }
   ],
   "source": [
    "from sklearn.ensemble import GradientBoostingClassifier\n",
    "from sklearn.metrics import accuracy_score, classification_report\n",
    "\n",
    "gb_model = GradientBoostingClassifier(\n",
    "    n_estimators=100,\n",
    "    learning_rate=0.1,\n",
    "    max_depth=3,\n",
    "    random_state=42\n",
    ")\n",
    "\n",
    "gb_model.fit(X_train_selected, y_train)\n",
    "\n",
    "y_pred_gb = gb_model.predict(X_test_selected)\n",
    "\n",
    "gb_acc = accuracy_score(y_test, y_pred_gb)\n",
    "print(\"Gradient Boosting Accuracy:\", round(gb_acc, 4))\n",
    "print(\"\\nClassification Report:\")\n",
    "print(classification_report(y_test, y_pred_gb))\n"
   ]
  },
  {
   "cell_type": "markdown",
   "metadata": {},
   "source": [
    "- Adaptive Boosting"
   ]
  },
  {
   "cell_type": "code",
   "execution_count": 22,
   "metadata": {},
   "outputs": [
    {
     "name": "stdout",
     "output_type": "stream",
     "text": [
      "AdaBoost Accuracy: 0.7886\n",
      "\n",
      "Classification Report:\n",
      "              precision    recall  f1-score   support\n",
      "\n",
      "           0       0.84      0.73      0.78       699\n",
      "           1       0.75      0.85      0.80       654\n",
      "\n",
      "    accuracy                           0.79      1353\n",
      "   macro avg       0.79      0.79      0.79      1353\n",
      "weighted avg       0.79      0.79      0.79      1353\n",
      "\n"
     ]
    },
    {
     "name": "stderr",
     "output_type": "stream",
     "text": [
      "/opt/anaconda3/lib/python3.12/site-packages/sklearn/ensemble/_weight_boosting.py:527: FutureWarning: The SAMME.R algorithm (the default) is deprecated and will be removed in 1.6. Use the SAMME algorithm to circumvent this warning.\n",
      "  warnings.warn(\n"
     ]
    }
   ],
   "source": [
    "from sklearn.ensemble import AdaBoostClassifier\n",
    "from sklearn.metrics import accuracy_score, classification_report\n",
    "\n",
    "ada_model = AdaBoostClassifier(\n",
    "    n_estimators=100,\n",
    "    learning_rate=1.0,\n",
    "    random_state=42\n",
    ")\n",
    "\n",
    "ada_model.fit(X_train_selected, y_train)\n",
    "\n",
    "y_pred_ada = ada_model.predict(X_test_selected)\n",
    "\n",
    "ada_acc = accuracy_score(y_test, y_pred_ada)\n",
    "print(\"AdaBoost Accuracy:\", round(ada_acc, 4))\n",
    "print(\"\\nClassification Report:\")\n",
    "print(classification_report(y_test, y_pred_ada))"
   ]
  },
  {
   "cell_type": "markdown",
   "metadata": {},
   "source": [
    "Which model is the best and why?"
   ]
  },
  {
   "cell_type": "code",
   "execution_count": null,
   "metadata": {},
   "outputs": [],
   "source": [
    "#comment here"
   ]
  }
 ],
 "metadata": {
  "kernelspec": {
   "display_name": "Python [conda env:base] *",
   "language": "python",
   "name": "conda-base-py"
  },
  "language_info": {
   "codemirror_mode": {
    "name": "ipython",
    "version": 3
   },
   "file_extension": ".py",
   "mimetype": "text/x-python",
   "name": "python",
   "nbconvert_exporter": "python",
   "pygments_lexer": "ipython3",
   "version": "3.12.2"
  }
 },
 "nbformat": 4,
 "nbformat_minor": 4
}
